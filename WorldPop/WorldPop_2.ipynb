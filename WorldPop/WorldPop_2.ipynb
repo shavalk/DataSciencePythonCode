{
 "cells": [
  {
   "cell_type": "markdown",
   "metadata": {},
   "source": [
    "### Imports"
   ]
  },
  {
   "cell_type": "code",
   "execution_count": 5,
   "metadata": {},
   "outputs": [],
   "source": [
    "import numpy as np\n",
    "import pandas as pd\n",
    "from sklearn.tree import DecisionTreeRegressor"
   ]
  },
  {
   "cell_type": "code",
   "execution_count": 6,
   "metadata": {},
   "outputs": [],
   "source": [
    "population_df = pd.read_csv('world_population.csv', index_col='Country Code')"
   ]
  },
  {
   "cell_type": "code",
   "execution_count": 7,
   "metadata": {},
   "outputs": [
    {
     "data": {
      "text/html": [
       "<div>\n",
       "<style scoped>\n",
       "    .dataframe tbody tr th:only-of-type {\n",
       "        vertical-align: middle;\n",
       "    }\n",
       "\n",
       "    .dataframe tbody tr th {\n",
       "        vertical-align: top;\n",
       "    }\n",
       "\n",
       "    .dataframe thead th {\n",
       "        text-align: right;\n",
       "    }\n",
       "</style>\n",
       "<table border=\"1\" class=\"dataframe\">\n",
       "  <thead>\n",
       "    <tr style=\"text-align: right;\">\n",
       "      <th></th>\n",
       "      <th>1960</th>\n",
       "      <th>1961</th>\n",
       "      <th>1962</th>\n",
       "      <th>1963</th>\n",
       "      <th>1964</th>\n",
       "      <th>1965</th>\n",
       "      <th>1966</th>\n",
       "      <th>1967</th>\n",
       "      <th>1968</th>\n",
       "      <th>1969</th>\n",
       "      <th>...</th>\n",
       "      <th>2008</th>\n",
       "      <th>2009</th>\n",
       "      <th>2010</th>\n",
       "      <th>2011</th>\n",
       "      <th>2012</th>\n",
       "      <th>2013</th>\n",
       "      <th>2014</th>\n",
       "      <th>2015</th>\n",
       "      <th>2016</th>\n",
       "      <th>2017</th>\n",
       "    </tr>\n",
       "    <tr>\n",
       "      <th>Country Code</th>\n",
       "      <th></th>\n",
       "      <th></th>\n",
       "      <th></th>\n",
       "      <th></th>\n",
       "      <th></th>\n",
       "      <th></th>\n",
       "      <th></th>\n",
       "      <th></th>\n",
       "      <th></th>\n",
       "      <th></th>\n",
       "      <th></th>\n",
       "      <th></th>\n",
       "      <th></th>\n",
       "      <th></th>\n",
       "      <th></th>\n",
       "      <th></th>\n",
       "      <th></th>\n",
       "      <th></th>\n",
       "      <th></th>\n",
       "      <th></th>\n",
       "      <th></th>\n",
       "    </tr>\n",
       "  </thead>\n",
       "  <tbody>\n",
       "    <tr>\n",
       "      <td>ABW</td>\n",
       "      <td>54211.0</td>\n",
       "      <td>55438.0</td>\n",
       "      <td>56225.0</td>\n",
       "      <td>56695.0</td>\n",
       "      <td>57032.0</td>\n",
       "      <td>57360.0</td>\n",
       "      <td>57715.0</td>\n",
       "      <td>58055.0</td>\n",
       "      <td>58386.0</td>\n",
       "      <td>58726.0</td>\n",
       "      <td>...</td>\n",
       "      <td>101353.0</td>\n",
       "      <td>101453.0</td>\n",
       "      <td>101669.0</td>\n",
       "      <td>102053.0</td>\n",
       "      <td>102577.0</td>\n",
       "      <td>103187.0</td>\n",
       "      <td>103795.0</td>\n",
       "      <td>104341.0</td>\n",
       "      <td>104822.0</td>\n",
       "      <td>105264.0</td>\n",
       "    </tr>\n",
       "    <tr>\n",
       "      <td>AFG</td>\n",
       "      <td>8996351.0</td>\n",
       "      <td>9166764.0</td>\n",
       "      <td>9345868.0</td>\n",
       "      <td>9533954.0</td>\n",
       "      <td>9731361.0</td>\n",
       "      <td>9938414.0</td>\n",
       "      <td>10152331.0</td>\n",
       "      <td>10372630.0</td>\n",
       "      <td>10604346.0</td>\n",
       "      <td>10854428.0</td>\n",
       "      <td>...</td>\n",
       "      <td>27294031.0</td>\n",
       "      <td>28004331.0</td>\n",
       "      <td>28803167.0</td>\n",
       "      <td>29708599.0</td>\n",
       "      <td>30696958.0</td>\n",
       "      <td>31731688.0</td>\n",
       "      <td>32758020.0</td>\n",
       "      <td>33736494.0</td>\n",
       "      <td>34656032.0</td>\n",
       "      <td>35530081.0</td>\n",
       "    </tr>\n",
       "    <tr>\n",
       "      <td>AGO</td>\n",
       "      <td>5643182.0</td>\n",
       "      <td>5753024.0</td>\n",
       "      <td>5866061.0</td>\n",
       "      <td>5980417.0</td>\n",
       "      <td>6093321.0</td>\n",
       "      <td>6203299.0</td>\n",
       "      <td>6309770.0</td>\n",
       "      <td>6414995.0</td>\n",
       "      <td>6523791.0</td>\n",
       "      <td>6642632.0</td>\n",
       "      <td>...</td>\n",
       "      <td>21759420.0</td>\n",
       "      <td>22549547.0</td>\n",
       "      <td>23369131.0</td>\n",
       "      <td>24218565.0</td>\n",
       "      <td>25096150.0</td>\n",
       "      <td>25998340.0</td>\n",
       "      <td>26920466.0</td>\n",
       "      <td>27859305.0</td>\n",
       "      <td>28813463.0</td>\n",
       "      <td>29784193.0</td>\n",
       "    </tr>\n",
       "    <tr>\n",
       "      <td>ALB</td>\n",
       "      <td>1608800.0</td>\n",
       "      <td>1659800.0</td>\n",
       "      <td>1711319.0</td>\n",
       "      <td>1762621.0</td>\n",
       "      <td>1814135.0</td>\n",
       "      <td>1864791.0</td>\n",
       "      <td>1914573.0</td>\n",
       "      <td>1965598.0</td>\n",
       "      <td>2022272.0</td>\n",
       "      <td>2081695.0</td>\n",
       "      <td>...</td>\n",
       "      <td>2947314.0</td>\n",
       "      <td>2927519.0</td>\n",
       "      <td>2913021.0</td>\n",
       "      <td>2905195.0</td>\n",
       "      <td>2900401.0</td>\n",
       "      <td>2895092.0</td>\n",
       "      <td>2889104.0</td>\n",
       "      <td>2880703.0</td>\n",
       "      <td>2876101.0</td>\n",
       "      <td>2873457.0</td>\n",
       "    </tr>\n",
       "    <tr>\n",
       "      <td>AND</td>\n",
       "      <td>13411.0</td>\n",
       "      <td>14375.0</td>\n",
       "      <td>15370.0</td>\n",
       "      <td>16412.0</td>\n",
       "      <td>17469.0</td>\n",
       "      <td>18549.0</td>\n",
       "      <td>19647.0</td>\n",
       "      <td>20758.0</td>\n",
       "      <td>21890.0</td>\n",
       "      <td>23058.0</td>\n",
       "      <td>...</td>\n",
       "      <td>83861.0</td>\n",
       "      <td>84462.0</td>\n",
       "      <td>84449.0</td>\n",
       "      <td>83751.0</td>\n",
       "      <td>82431.0</td>\n",
       "      <td>80788.0</td>\n",
       "      <td>79223.0</td>\n",
       "      <td>78014.0</td>\n",
       "      <td>77281.0</td>\n",
       "      <td>76965.0</td>\n",
       "    </tr>\n",
       "  </tbody>\n",
       "</table>\n",
       "<p>5 rows × 58 columns</p>\n",
       "</div>"
      ],
      "text/plain": [
       "                   1960       1961       1962       1963       1964  \\\n",
       "Country Code                                                          \n",
       "ABW             54211.0    55438.0    56225.0    56695.0    57032.0   \n",
       "AFG           8996351.0  9166764.0  9345868.0  9533954.0  9731361.0   \n",
       "AGO           5643182.0  5753024.0  5866061.0  5980417.0  6093321.0   \n",
       "ALB           1608800.0  1659800.0  1711319.0  1762621.0  1814135.0   \n",
       "AND             13411.0    14375.0    15370.0    16412.0    17469.0   \n",
       "\n",
       "                   1965        1966        1967        1968        1969  ...  \\\n",
       "Country Code                                                             ...   \n",
       "ABW             57360.0     57715.0     58055.0     58386.0     58726.0  ...   \n",
       "AFG           9938414.0  10152331.0  10372630.0  10604346.0  10854428.0  ...   \n",
       "AGO           6203299.0   6309770.0   6414995.0   6523791.0   6642632.0  ...   \n",
       "ALB           1864791.0   1914573.0   1965598.0   2022272.0   2081695.0  ...   \n",
       "AND             18549.0     19647.0     20758.0     21890.0     23058.0  ...   \n",
       "\n",
       "                    2008        2009        2010        2011        2012  \\\n",
       "Country Code                                                               \n",
       "ABW             101353.0    101453.0    101669.0    102053.0    102577.0   \n",
       "AFG           27294031.0  28004331.0  28803167.0  29708599.0  30696958.0   \n",
       "AGO           21759420.0  22549547.0  23369131.0  24218565.0  25096150.0   \n",
       "ALB            2947314.0   2927519.0   2913021.0   2905195.0   2900401.0   \n",
       "AND              83861.0     84462.0     84449.0     83751.0     82431.0   \n",
       "\n",
       "                    2013        2014        2015        2016        2017  \n",
       "Country Code                                                              \n",
       "ABW             103187.0    103795.0    104341.0    104822.0    105264.0  \n",
       "AFG           31731688.0  32758020.0  33736494.0  34656032.0  35530081.0  \n",
       "AGO           25998340.0  26920466.0  27859305.0  28813463.0  29784193.0  \n",
       "ALB            2895092.0   2889104.0   2880703.0   2876101.0   2873457.0  \n",
       "AND              80788.0     79223.0     78014.0     77281.0     76965.0  \n",
       "\n",
       "[5 rows x 58 columns]"
      ]
     },
     "execution_count": 7,
     "metadata": {},
     "output_type": "execute_result"
    }
   ],
   "source": [
    "population_df.head()"
   ]
  },
  {
   "cell_type": "markdown",
   "metadata": {},
   "source": [
    "### Function to calculate population growth rate"
   ]
  },
  {
   "cell_type": "code",
   "execution_count": 8,
   "metadata": {},
   "outputs": [],
   "source": [
    "def get_population_growth_rate_by_country_year(df,country_code):\n",
    "    filtered_df = df.loc[df.index == country_code].reset_index().drop(['Country Code'], axis = 1)\n",
    "    filtered_df = filtered_df.pct_change(axis = 1).drop(['1960'], axis = 1).round(5)\n",
    "    dates = filtered_df.columns.values.astype(int)\n",
    "    pop = filtered_df.to_numpy()\n",
    "    output = np.vstack((dates, pop)).T\n",
    "    return output"
   ]
  },
  {
   "cell_type": "code",
   "execution_count": 9,
   "metadata": {},
   "outputs": [
    {
     "data": {
      "text/plain": [
       "array([[ 1.961e+03,  2.263e-02],\n",
       "       [ 1.962e+03,  1.420e-02],\n",
       "       [ 1.963e+03,  8.360e-03],\n",
       "       [ 1.964e+03,  5.940e-03],\n",
       "       [ 1.965e+03,  5.750e-03],\n",
       "       [ 1.966e+03,  6.190e-03],\n",
       "       [ 1.967e+03,  5.890e-03],\n",
       "       [ 1.968e+03,  5.700e-03],\n",
       "       [ 1.969e+03,  5.820e-03],\n",
       "       [ 1.970e+03,  5.740e-03],\n",
       "       [ 1.971e+03,  6.380e-03],\n",
       "       [ 1.972e+03,  6.730e-03],\n",
       "       [ 1.973e+03,  6.730e-03],\n",
       "       [ 1.974e+03,  4.730e-03],\n",
       "       [ 1.975e+03,  2.130e-03],\n",
       "       [ 1.976e+03, -1.170e-03],\n",
       "       [ 1.977e+03, -3.630e-03],\n",
       "       [ 1.978e+03, -4.360e-03],\n",
       "       [ 1.979e+03, -2.050e-03],\n",
       "       [ 1.980e+03,  1.930e-03],\n",
       "       [ 1.981e+03,  7.840e-03],\n",
       "       [ 1.982e+03,  1.285e-02],\n",
       "       [ 1.983e+03,  1.395e-02],\n",
       "       [ 1.984e+03,  1.021e-02],\n",
       "       [ 1.985e+03,  3.020e-03],\n",
       "       [ 1.986e+03, -6.060e-03],\n",
       "       [ 1.987e+03, -1.295e-02],\n",
       "       [ 1.988e+03, -1.219e-02],\n",
       "       [ 1.989e+03, -7.700e-04],\n",
       "       [ 1.990e+03,  1.830e-02],\n",
       "       [ 1.991e+03,  3.979e-02],\n",
       "       [ 1.992e+03,  5.591e-02],\n",
       "       [ 1.993e+03,  6.256e-02],\n",
       "       [ 1.994e+03,  5.787e-02],\n",
       "       [ 1.995e+03,  4.725e-02],\n",
       "       [ 1.996e+03,  3.580e-02],\n",
       "       [ 1.997e+03,  2.706e-02],\n",
       "       [ 1.998e+03,  2.137e-02],\n",
       "       [ 1.999e+03,  1.980e-02],\n",
       "       [ 2.000e+03,  2.076e-02],\n",
       "       [ 2.001e+03,  2.251e-02],\n",
       "       [ 2.002e+03,  2.254e-02],\n",
       "       [ 2.003e+03,  2.132e-02],\n",
       "       [ 2.004e+03,  1.773e-02],\n",
       "       [ 2.005e+03,  1.311e-02],\n",
       "       [ 2.006e+03,  8.010e-03],\n",
       "       [ 2.007e+03,  3.850e-03],\n",
       "       [ 2.008e+03,  1.310e-03],\n",
       "       [ 2.009e+03,  9.900e-04],\n",
       "       [ 2.010e+03,  2.130e-03],\n",
       "       [ 2.011e+03,  3.780e-03],\n",
       "       [ 2.012e+03,  5.130e-03],\n",
       "       [ 2.013e+03,  5.950e-03],\n",
       "       [ 2.014e+03,  5.890e-03],\n",
       "       [ 2.015e+03,  5.260e-03],\n",
       "       [ 2.016e+03,  4.610e-03],\n",
       "       [ 2.017e+03,  4.220e-03]])"
      ]
     },
     "execution_count": 9,
     "metadata": {},
     "output_type": "execute_result"
    }
   ],
   "source": [
    "get_population_growth_rate_by_country_year(population_df,'ABW')"
   ]
  },
  {
   "cell_type": "markdown",
   "metadata": {},
   "source": [
    "### Function to test/train split by even/odd years"
   ]
  },
  {
   "cell_type": "code",
   "execution_count": 10,
   "metadata": {},
   "outputs": [],
   "source": [
    "def feature_response_split(arr):\n",
    "    even = [] #arr[arr % 2 == 0]\n",
    "    odd = [] #arr[arr % 2 != 0]\n",
    "    for entry in range(len(arr)):\n",
    "        if [entry][0] % 2 == 0:\n",
    "            even.append(arr[entry])\n",
    "        else:\n",
    "            odd.append(arr[entry])\n",
    "    X_train, y_train = zip(*odd)\n",
    "    X_test, y_test = zip(*even)\n",
    "    return (np.array(X_train), np.array(y_train)), (np.array(X_test), np.array(y_test))"
   ]
  },
  {
   "cell_type": "code",
   "execution_count": 11,
   "metadata": {},
   "outputs": [],
   "source": [
    "data = get_population_growth_rate_by_country_year(population_df,'ABW');\n",
    "(X_train, y_train), (X_test, y_test) = feature_response_split(data)"
   ]
  },
  {
   "cell_type": "markdown",
   "metadata": {},
   "source": [
    "### Function to fit DTR"
   ]
  },
  {
   "cell_type": "code",
   "execution_count": 12,
   "metadata": {},
   "outputs": [],
   "source": [
    "def train_model(X_train, y_train, MaxDepth):\n",
    "    regrtree = DecisionTreeRegressor(max_depth = MaxDepth, random_state = 42)\n",
    "    return regrtree.fit(X_train.reshape(-1, 1),y_train)"
   ]
  },
  {
   "cell_type": "code",
   "execution_count": 13,
   "metadata": {},
   "outputs": [
    {
     "data": {
      "text/plain": [
       "array([0.00451333])"
      ]
     },
     "execution_count": 13,
     "metadata": {},
     "output_type": "execute_result"
    }
   ],
   "source": [
    "data = get_population_growth_rate_by_country_year(population_df,'ABW')\n",
    "(X_train, y_train), _ = feature_response_split(data)\n",
    "\n",
    "train_model(X_train, y_train,3).predict([[2017]])"
   ]
  },
  {
   "cell_type": "markdown",
   "metadata": {},
   "source": [
    "### Function to produce RMSLE"
   ]
  },
  {
   "cell_type": "code",
   "execution_count": 14,
   "metadata": {},
   "outputs": [],
   "source": [
    "### START FUNCTION\n",
    "def test_model(model, y_test, X_test):\n",
    "    X_predict = model.predict(X_test.reshape(-1,1))[0]\n",
    "    y_predict = y_test[0]\n",
    "    rmsle = np.around(np.sqrt(((np.log(1 + X_predict) - np.log(1 + y_predict)) ** 2) / float(len(y_test))), 3)\n",
    "    return rmsle\n",
    "### END FUNCTION"
   ]
  },
  {
   "cell_type": "code",
   "execution_count": 15,
   "metadata": {},
   "outputs": [
    {
     "data": {
      "text/plain": [
       "0.003"
      ]
     },
     "execution_count": 15,
     "metadata": {},
     "output_type": "execute_result"
    }
   ],
   "source": [
    "data = get_population_growth_rate_by_country_year(population_df,'ABW')\n",
    "(X_train, y_train), (X_test, y_test) = feature_response_split(data)\n",
    "lm = train_model(X_train, y_train,3)\n",
    "test_model(lm, y_test, X_test)"
   ]
  }
 ],
 "metadata": {
  "kernelspec": {
   "display_name": "Python 3",
   "language": "python",
   "name": "python3"
  },
  "language_info": {
   "codemirror_mode": {
    "name": "ipython",
    "version": 3
   },
   "file_extension": ".py",
   "mimetype": "text/x-python",
   "name": "python",
   "nbconvert_exporter": "python",
   "pygments_lexer": "ipython3",
   "version": "3.7.4"
  }
 },
 "nbformat": 4,
 "nbformat_minor": 2
}
